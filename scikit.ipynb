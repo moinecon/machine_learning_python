{
 "cells": [
  {
   "cell_type": "markdown",
   "id": "9aba9185-800d-4bfc-ac63-4fb4e09c80cc",
   "metadata": {},
   "source": [
    "scikit-learn is a Python module for machine learning built on top of SciPy"
   ]
  },
  {
   "cell_type": "code",
   "execution_count": null,
   "id": "808b9918-f264-4a2a-bc8e-fc2a75be9b49",
   "metadata": {},
   "outputs": [],
   "source": []
  }
 ],
 "metadata": {
  "kernelspec": {
   "display_name": "Python 3 (ipykernel)",
   "language": "python",
   "name": "python3"
  },
  "language_info": {
   "codemirror_mode": {
    "name": "ipython",
    "version": 3
   },
   "file_extension": ".py",
   "mimetype": "text/x-python",
   "name": "python",
   "nbconvert_exporter": "python",
   "pygments_lexer": "ipython3",
   "version": "3.11.5"
  }
 },
 "nbformat": 4,
 "nbformat_minor": 5
}
