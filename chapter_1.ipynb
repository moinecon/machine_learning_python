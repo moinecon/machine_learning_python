{
 "cells": [
  {
   "cell_type": "markdown",
   "id": "48758b25-9ce2-4d47-9e6d-acc3669a82ac",
   "metadata": {},
   "source": [
    "# Chapter 1"
   ]
  },
  {
   "cell_type": "markdown",
   "id": "7caf73cb-68d3-4881-8038-471db155edc5",
   "metadata": {},
   "source": [
    "### Types of Machine Learning Systems\n",
    "\n",
    "There are so many different types of machine learning systems that it is useful to classify them in broad categories, based on the following criteria:\n",
    "\n",
    "- How they are supervised during training (supervised, unsupervised, semi-supervised, self-supervised, and others)\n",
    "\n",
    "- Whether or not they can learn incrementally on the fly (online versus batch learning)\n",
    "\n",
    "- Whether they work by simply comparing new data points to known data points, or instead by detecting patterns in the training data and building a predictive model, much like scientists do (instance-based versus model- based learning)"
   ]
  },
  {
   "cell_type": "markdown",
   "id": "2d798074-6fc4-4a5a-8e86-777a8d39e2f8",
   "metadata": {},
   "source": [
    "### Training Supervision\n",
    "\n",
    "- ML systems can be classified according to the amount and type of supervision they get during training. \n",
    "\n",
    "- There are many categories, but we’ll discuss the main ones: supervised learning, unsupervised learning, self- supervised learning, semi-supervised learning, and reinforcement learning."
   ]
  },
  {
   "cell_type": "code",
   "execution_count": null,
   "id": "892087dd-bb95-440f-9019-f53a43f6f5ad",
   "metadata": {},
   "outputs": [],
   "source": []
  }
 ],
 "metadata": {
  "kernelspec": {
   "display_name": "Python 3 (ipykernel)",
   "language": "python",
   "name": "python3"
  },
  "language_info": {
   "codemirror_mode": {
    "name": "ipython",
    "version": 3
   },
   "file_extension": ".py",
   "mimetype": "text/x-python",
   "name": "python",
   "nbconvert_exporter": "python",
   "pygments_lexer": "ipython3",
   "version": "3.11.5"
  }
 },
 "nbformat": 4,
 "nbformat_minor": 5
}
