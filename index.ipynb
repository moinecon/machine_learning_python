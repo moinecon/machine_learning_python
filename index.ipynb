{
 "cells": [
  {
   "cell_type": "markdown",
   "id": "56f5da1f-81e4-49d7-b09a-ce21c84f7e9a",
   "metadata": {},
   "source": [
    "# Machine Learning"
   ]
  },
  {
   "cell_type": "markdown",
   "id": "27c1b381-f132-410d-a613-8f576b4442f0",
   "metadata": {},
   "source": [
    "Machine Learning is a subdomain of artificial intelligence. It allows computers to learn and improve from experience without being explicitly programmed by programmers, and It is designed in such a way that allows systems to identify patterns, make predictions, and make decisions based on data. "
   ]
  },
  {
   "cell_type": "markdown",
   "id": "6caa853d-2eb3-4e40-abee-16417750ca7e",
   "metadata": {},
   "source": [
    "Python has a crucial role in machine learning because Python provides libraries like NumPy, Pandas, Scikit-learn, TensorFlow, and Keras. These libraries offer tools and functions essential for data manipulation, analysis, and building machine learning models."
   ]
  },
  {
   "cell_type": "markdown",
   "id": "63883dd4-13be-4c94-b6e7-6b834a8f9310",
   "metadata": {},
   "source": [
    "Python libraries that are used in Machine Learning are: \n",
    " \n",
    "- Numpy\n",
    "- Scipy\n",
    "- Scikit-learn\n",
    "- Theano\n",
    "- TensorFlow\n",
    "- Keras\n",
    "- PyTorch\n",
    "- Pandas\n",
    "- Matplotlib"
   ]
  },
  {
   "cell_type": "code",
   "execution_count": null,
   "id": "40b13114-8447-47dc-80da-9c4560defb2f",
   "metadata": {},
   "outputs": [],
   "source": []
  }
 ],
 "metadata": {
  "kernelspec": {
   "display_name": "Python 3 (ipykernel)",
   "language": "python",
   "name": "python3"
  },
  "language_info": {
   "codemirror_mode": {
    "name": "ipython",
    "version": 3
   },
   "file_extension": ".py",
   "mimetype": "text/x-python",
   "name": "python",
   "nbconvert_exporter": "python",
   "pygments_lexer": "ipython3",
   "version": "3.11.5"
  }
 },
 "nbformat": 4,
 "nbformat_minor": 5
}
