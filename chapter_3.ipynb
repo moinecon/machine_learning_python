{
 "cells": [
  {
   "cell_type": "markdown",
   "id": "9ad84e88-3723-4e36-8967-266da37ec3a4",
   "metadata": {},
   "source": [
    "# Chapte"
   ]
  },
  {
   "cell_type": "markdown",
   "id": "aba75681-a2f6-4c03-be67-b8ce5e2b51dc",
   "metadata": {},
   "source": [
    "SciPy"
   ]
  }
 ],
 "metadata": {
  "kernelspec": {
   "display_name": "Python 3 (ipykernel)",
   "language": "python",
   "name": "python3"
  },
  "language_info": {
   "codemirror_mode": {
    "name": "ipython",
    "version": 3
   },
   "file_extension": ".py",
   "mimetype": "text/x-python",
   "name": "python",
   "nbconvert_exporter": "python",
   "pygments_lexer": "ipython3",
   "version": "3.11.5"
  }
 },
 "nbformat": 4,
 "nbformat_minor": 5
}
